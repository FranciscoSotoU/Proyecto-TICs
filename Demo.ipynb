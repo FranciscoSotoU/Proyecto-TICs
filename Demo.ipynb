{
 "cells": [
  {
   "cell_type": "code",
   "execution_count": 1,
   "id": "98b66bcf",
   "metadata": {},
   "outputs": [],
   "source": [
    "import cv2\n",
    "import numpy as np\n",
    "from src.Receiver import Receiver\n",
    "from scipy.io import wavfile\n",
    "import matplotlib.pyplot as plt"
   ]
  },
  {
   "cell_type": "markdown",
   "id": "fadf2726",
   "metadata": {},
   "source": [
    "## Funciones para calculo de errores"
   ]
  },
  {
   "cell_type": "code",
   "execution_count": 2,
   "id": "0157655b",
   "metadata": {},
   "outputs": [],
   "source": [
    "def bit_error_rate(true_bits, bits):\n",
    "    error_count = 0\n",
    "    for true_bit, bit in zip(true_bits, bits):\n",
    "        if true_bit != bit:\n",
    "            error_count += 1\n",
    "    error_rate = error_count / len(true_bits)\n",
    "    correct_rate = 1 - error_rate\n",
    "    print('Porcentaje bits correctos:', round(correct_rate*100, 4), '% correctos')\n",
    "    print('Porcentaje bits incorrectos:', round(error_rate*100, 4), '% incorrectos')"
   ]
  },
  {
   "cell_type": "code",
   "execution_count": 3,
   "id": "a53369ca",
   "metadata": {},
   "outputs": [],
   "source": [
    "def load_text_bits(path):\n",
    "    try:\n",
    "        with open(path, 'r') as f:\n",
    "            text = f.read()\n",
    "    except:\n",
    "        text = path\n",
    "    ascii_list = [ord(ch) for ch in text]\n",
    "\n",
    "    bits = np.array([format(i, '08b') for i in ascii_list])\n",
    "    bitList = [int(item) for sublist in bits for item in sublist]\n",
    "    return np.array(bitList)\n"
   ]
  },
  {
   "cell_type": "code",
   "execution_count": 4,
   "id": "b6168782",
   "metadata": {},
   "outputs": [],
   "source": [
    "def load_image_bits_send(path):\n",
    "    try:\n",
    "        img = cv2.imread(path)\n",
    "    except:\n",
    "        img = path\n",
    "    b = img[:,:,2]\n",
    "    g = img[:,:,1]\n",
    "    r = img[:,:,0]\n",
    "    r = r.flatten()\n",
    "    r_binary = np.array([format(i, '08b') for i in r])\n",
    "    g = g.flatten()\n",
    "    g_binary = np.array([format(i, '08b') for i in g])\n",
    "    b = b.flatten()\n",
    "    b_binary = np.array([format(i, '08b') for i in b])\n",
    "    bitListred = [int(item) for sublist in r_binary for item in sublist]\n",
    "    bitListgreen = [int(item) for sublist in g_binary for item in sublist]\n",
    "    bitListblue = [int(item) for sublist in b_binary for item in sublist]\n",
    "    return np.concatenate([bitListblue, bitListgreen, bitListred])"
   ]
  },
  {
   "cell_type": "code",
   "execution_count": 5,
   "id": "767147d9",
   "metadata": {},
   "outputs": [],
   "source": [
    "def load_image_bits(path):\n",
    "    try:\n",
    "        img = cv2.imread(path)\n",
    "    except:\n",
    "        img = path\n",
    "    b = img[:,:,0]\n",
    "    g = img[:,:,1]\n",
    "    r = img[:,:,2]\n",
    "    r = r.flatten()\n",
    "    r_binary = np.array([format(i, '08b') for i in r])\n",
    "    g = g.flatten()\n",
    "    g_binary = np.array([format(i, '08b') for i in g])\n",
    "    b = b.flatten()\n",
    "    b_binary = np.array([format(i, '08b') for i in b])\n",
    "    bitListred = [int(item) for sublist in r_binary for item in sublist]\n",
    "    bitListgreen = [int(item) for sublist in g_binary for item in sublist]\n",
    "    bitListblue = [int(item) for sublist in b_binary for item in sublist]\n",
    "    return np.concatenate([bitListblue, bitListgreen, bitListred])"
   ]
  },
  {
   "cell_type": "markdown",
   "id": "cbeacc03",
   "metadata": {},
   "source": [
    "## Demo"
   ]
  },
  {
   "cell_type": "code",
   "execution_count": 6,
   "id": "af8cac18",
   "metadata": {},
   "outputs": [
    {
     "name": "stdout",
     "output_type": "stream",
     "text": [
      "Listening\n"
     ]
    },
    {
     "ename": "KeyboardInterrupt",
     "evalue": "",
     "output_type": "error",
     "traceback": [
      "\u001b[0;31m---------------------------------------------------------------------------\u001b[0m",
      "\u001b[0;31mKeyboardInterrupt\u001b[0m                         Traceback (most recent call last)",
      "Cell \u001b[0;32mIn[6], line 2\u001b[0m\n\u001b[1;32m      1\u001b[0m receiver_audio \u001b[38;5;241m=\u001b[39m  Receiver(\u001b[38;5;241m1000\u001b[39m,\u001b[38;5;241m200\u001b[39m,\u001b[38;5;241m20\u001b[39m)\n\u001b[0;32m----> 2\u001b[0m audio \u001b[38;5;241m=\u001b[39m \u001b[43mreceiver_audio\u001b[49m\u001b[38;5;241;43m.\u001b[39;49m\u001b[43mlisten\u001b[49m\u001b[43m(\u001b[49m\u001b[38;5;241;43m100\u001b[39;49m\u001b[43m)\u001b[49m\n",
      "File \u001b[0;32m~/Documents/Semestre 12/Lab TICS/TICs_project/src/Receiver.py:43\u001b[0m, in \u001b[0;36mReceiver.listen\u001b[0;34m(self, duration)\u001b[0m\n\u001b[1;32m     41\u001b[0m data \u001b[38;5;241m=\u001b[39m data[:, \u001b[38;5;241m0\u001b[39m]\n\u001b[1;32m     42\u001b[0m \u001b[38;5;28mprint\u001b[39m(\u001b[38;5;124m\"\u001b[39m\u001b[38;5;124mListening\u001b[39m\u001b[38;5;124m\"\u001b[39m)\n\u001b[0;32m---> 43\u001b[0m \u001b[43msd\u001b[49m\u001b[38;5;241;43m.\u001b[39;49m\u001b[43mwait\u001b[49m\u001b[43m(\u001b[49m\u001b[43m)\u001b[49m\n\u001b[1;32m     44\u001b[0m \u001b[38;5;28mprint\u001b[39m(\u001b[38;5;124m\"\u001b[39m\u001b[38;5;124mDone listening\u001b[39m\u001b[38;5;124m\"\u001b[39m)\n\u001b[1;32m     45\u001b[0m \u001b[38;5;28mself\u001b[39m\u001b[38;5;241m.\u001b[39mbuffer \u001b[38;5;241m=\u001b[39m data\n",
      "File \u001b[0;32m~/anaconda3/envs/ptics/lib/python3.9/site-packages/sounddevice.py:395\u001b[0m, in \u001b[0;36mwait\u001b[0;34m(ignore_errors)\u001b[0m\n\u001b[1;32m    379\u001b[0m \u001b[38;5;250m\u001b[39m\u001b[38;5;124;03m\"\"\"Wait for `play()`/`rec()`/`playrec()` to be finished.\u001b[39;00m\n\u001b[1;32m    380\u001b[0m \n\u001b[1;32m    381\u001b[0m \u001b[38;5;124;03mPlayback/recording can be stopped with a `KeyboardInterrupt`.\u001b[39;00m\n\u001b[0;32m   (...)\u001b[0m\n\u001b[1;32m    392\u001b[0m \n\u001b[1;32m    393\u001b[0m \u001b[38;5;124;03m\"\"\"\u001b[39;00m\n\u001b[1;32m    394\u001b[0m \u001b[38;5;28;01mif\u001b[39;00m _last_callback:\n\u001b[0;32m--> 395\u001b[0m     \u001b[38;5;28;01mreturn\u001b[39;00m \u001b[43m_last_callback\u001b[49m\u001b[38;5;241;43m.\u001b[39;49m\u001b[43mwait\u001b[49m\u001b[43m(\u001b[49m\u001b[43mignore_errors\u001b[49m\u001b[43m)\u001b[49m\n",
      "File \u001b[0;32m~/anaconda3/envs/ptics/lib/python3.9/site-packages/sounddevice.py:2601\u001b[0m, in \u001b[0;36m_CallbackContext.wait\u001b[0;34m(self, ignore_errors)\u001b[0m\n\u001b[1;32m   2595\u001b[0m \u001b[38;5;250m\u001b[39m\u001b[38;5;124;03m\"\"\"Wait for finished_callback.\u001b[39;00m\n\u001b[1;32m   2596\u001b[0m \n\u001b[1;32m   2597\u001b[0m \u001b[38;5;124;03mCan be interrupted with a KeyboardInterrupt.\u001b[39;00m\n\u001b[1;32m   2598\u001b[0m \n\u001b[1;32m   2599\u001b[0m \u001b[38;5;124;03m\"\"\"\u001b[39;00m\n\u001b[1;32m   2600\u001b[0m \u001b[38;5;28;01mtry\u001b[39;00m:\n\u001b[0;32m-> 2601\u001b[0m     \u001b[38;5;28;43mself\u001b[39;49m\u001b[38;5;241;43m.\u001b[39;49m\u001b[43mevent\u001b[49m\u001b[38;5;241;43m.\u001b[39;49m\u001b[43mwait\u001b[49m\u001b[43m(\u001b[49m\u001b[43m)\u001b[49m\n\u001b[1;32m   2602\u001b[0m \u001b[38;5;28;01mfinally\u001b[39;00m:\n\u001b[1;32m   2603\u001b[0m     \u001b[38;5;28mself\u001b[39m\u001b[38;5;241m.\u001b[39mstream\u001b[38;5;241m.\u001b[39mclose(ignore_errors)\n",
      "File \u001b[0;32m~/anaconda3/envs/ptics/lib/python3.9/threading.py:581\u001b[0m, in \u001b[0;36mEvent.wait\u001b[0;34m(self, timeout)\u001b[0m\n\u001b[1;32m    579\u001b[0m signaled \u001b[38;5;241m=\u001b[39m \u001b[38;5;28mself\u001b[39m\u001b[38;5;241m.\u001b[39m_flag\n\u001b[1;32m    580\u001b[0m \u001b[38;5;28;01mif\u001b[39;00m \u001b[38;5;129;01mnot\u001b[39;00m signaled:\n\u001b[0;32m--> 581\u001b[0m     signaled \u001b[38;5;241m=\u001b[39m \u001b[38;5;28;43mself\u001b[39;49m\u001b[38;5;241;43m.\u001b[39;49m\u001b[43m_cond\u001b[49m\u001b[38;5;241;43m.\u001b[39;49m\u001b[43mwait\u001b[49m\u001b[43m(\u001b[49m\u001b[43mtimeout\u001b[49m\u001b[43m)\u001b[49m\n\u001b[1;32m    582\u001b[0m \u001b[38;5;28;01mreturn\u001b[39;00m signaled\n",
      "File \u001b[0;32m~/anaconda3/envs/ptics/lib/python3.9/threading.py:312\u001b[0m, in \u001b[0;36mCondition.wait\u001b[0;34m(self, timeout)\u001b[0m\n\u001b[1;32m    310\u001b[0m \u001b[38;5;28;01mtry\u001b[39;00m:    \u001b[38;5;66;03m# restore state no matter what (e.g., KeyboardInterrupt)\u001b[39;00m\n\u001b[1;32m    311\u001b[0m     \u001b[38;5;28;01mif\u001b[39;00m timeout \u001b[38;5;129;01mis\u001b[39;00m \u001b[38;5;28;01mNone\u001b[39;00m:\n\u001b[0;32m--> 312\u001b[0m         \u001b[43mwaiter\u001b[49m\u001b[38;5;241;43m.\u001b[39;49m\u001b[43macquire\u001b[49m\u001b[43m(\u001b[49m\u001b[43m)\u001b[49m\n\u001b[1;32m    313\u001b[0m         gotit \u001b[38;5;241m=\u001b[39m \u001b[38;5;28;01mTrue\u001b[39;00m\n\u001b[1;32m    314\u001b[0m     \u001b[38;5;28;01melse\u001b[39;00m:\n",
      "\u001b[0;31mKeyboardInterrupt\u001b[0m: "
     ]
    }
   ],
   "source": [
    "receiver_audio =  Receiver(1000,200,20)\n",
    "audio = receiver_audio.listen(100)"
   ]
  },
  {
   "cell_type": "code",
   "execution_count": null,
   "id": "fd1e171e",
   "metadata": {},
   "outputs": [
    {
     "ename": "",
     "evalue": "",
     "output_type": "error",
     "traceback": [
      "\u001b[1;31mRunning cells with 'ptics' requires the ipykernel package.\n",
      "\u001b[1;31mRun the following command to install 'ipykernel' into the Python environment. \n",
      "\u001b[1;31mCommand: 'conda install -n ptics ipykernel --update-deps --force-reinstall'"
     ]
    }
   ],
   "source": [
    "receiver1 = Receiver(1000, 3000,20)\n",
    "receiver2 = Receiver(4000,6000,14)"
   ]
  },
  {
   "cell_type": "code",
   "execution_count": null,
   "id": "510f7a3d",
   "metadata": {},
   "outputs": [
    {
     "ename": "",
     "evalue": "",
     "output_type": "error",
     "traceback": [
      "\u001b[1;31mRunning cells with 'ptics' requires the ipykernel package.\n",
      "\u001b[1;31mRun the following command to install 'ipykernel' into the Python environment. \n",
      "\u001b[1;31mCommand: 'conda install -n ptics ipykernel --update-deps --force-reinstall'"
     ]
    }
   ],
   "source": [
    "bits1 = receiver1.decode_audio(audio)\n",
    "bits2 = receiver2.decode_audio(audio)"
   ]
  },
  {
   "cell_type": "code",
   "execution_count": null,
   "id": "069b887a",
   "metadata": {},
   "outputs": [
    {
     "ename": "",
     "evalue": "",
     "output_type": "error",
     "traceback": [
      "\u001b[1;31mRunning cells with 'ptics' requires the ipykernel package.\n",
      "\u001b[1;31mRun the following command to install 'ipykernel' into the Python environment. \n",
      "\u001b[1;31mCommand: 'conda install -n ptics ipykernel --update-deps --force-reinstall'"
     ]
    }
   ],
   "source": [
    "img1 = bits1[0]\n",
    "text1 = bits1[1]\n",
    "img2 = bits2[0]\n",
    "text2 = bits2[1]"
   ]
  },
  {
   "cell_type": "markdown",
   "id": "57a26470",
   "metadata": {},
   "source": [
    "### Primera Imagen"
   ]
  },
  {
   "cell_type": "code",
   "execution_count": null,
   "id": "87f06e8e",
   "metadata": {},
   "outputs": [
    {
     "ename": "",
     "evalue": "",
     "output_type": "error",
     "traceback": [
      "\u001b[1;31mRunning cells with 'ptics' requires the ipykernel package.\n",
      "\u001b[1;31mRun the following command to install 'ipykernel' into the Python environment. \n",
      "\u001b[1;31mCommand: 'conda install -n ptics ipykernel --update-deps --force-reinstall'"
     ]
    }
   ],
   "source": [
    "plt.imshow(img1)\n",
    "plt.axis('off')\n",
    "print(text1)"
   ]
  },
  {
   "cell_type": "code",
   "execution_count": null,
   "id": "456deaf9",
   "metadata": {},
   "outputs": [
    {
     "ename": "",
     "evalue": "",
     "output_type": "error",
     "traceback": [
      "\u001b[1;31mRunning cells with 'ptics' requires the ipykernel package.\n",
      "\u001b[1;31mRun the following command to install 'ipykernel' into the Python environment. \n",
      "\u001b[1;31mCommand: 'conda install -n ptics ipykernel --update-deps --force-reinstall'"
     ]
    }
   ],
   "source": [
    "true_bits_image_1 = load_image_bits('data/1_20_Imagen1.png')\n",
    "received_bits_image_1 = load_image_bits_send(bits1[0])\n",
    "bit_error_rate(true_bits_image_1,received_bits_image_1)"
   ]
  },
  {
   "cell_type": "code",
   "execution_count": null,
   "id": "bbe86386",
   "metadata": {},
   "outputs": [
    {
     "ename": "",
     "evalue": "",
     "output_type": "error",
     "traceback": [
      "\u001b[1;31mRunning cells with 'ptics' requires the ipykernel package.\n",
      "\u001b[1;31mRun the following command to install 'ipykernel' into the Python environment. \n",
      "\u001b[1;31mCommand: 'conda install -n ptics ipykernel --update-deps --force-reinstall'"
     ]
    }
   ],
   "source": [
    "true_bits_text_1 = load_text_bits('data/text.txt')\n",
    "received_bits_text_1 = load_text_bits(bits1[1])\n",
    "bit_error_rate(true_bits_text_1,received_bits_text_1)"
   ]
  },
  {
   "cell_type": "code",
   "execution_count": null,
   "id": "aafef8d3",
   "metadata": {},
   "outputs": [
    {
     "ename": "",
     "evalue": "",
     "output_type": "error",
     "traceback": [
      "\u001b[1;31mRunning cells with 'ptics' requires the ipykernel package.\n",
      "\u001b[1;31mRun the following command to install 'ipykernel' into the Python environment. \n",
      "\u001b[1;31mCommand: 'conda install -n ptics ipykernel --update-deps --force-reinstall'"
     ]
    }
   ],
   "source": [
    "all_true_bits_1 = np.concatenate([true_bits_image_1,true_bits_text_1])\n",
    "all_bits_received_1 = np.concatenate([received_bits_image_1,received_bits_text_1])\n",
    "bit_error_rate(all_true_bits_1,all_bits_received_1)"
   ]
  },
  {
   "cell_type": "code",
   "execution_count": null,
   "id": "749da341",
   "metadata": {},
   "outputs": [
    {
     "ename": "",
     "evalue": "",
     "output_type": "error",
     "traceback": [
      "\u001b[1;31mRunning cells with 'ptics' requires the ipykernel package.\n",
      "\u001b[1;31mRun the following command to install 'ipykernel' into the Python environment. \n",
      "\u001b[1;31mCommand: 'conda install -n ptics ipykernel --update-deps --force-reinstall'"
     ]
    }
   ],
   "source": [
    "plt.imshow(img2)\n",
    "plt.axis('off')\n",
    "print(text2)"
   ]
  },
  {
   "cell_type": "code",
   "execution_count": null,
   "id": "9a162177",
   "metadata": {},
   "outputs": [
    {
     "ename": "",
     "evalue": "",
     "output_type": "error",
     "traceback": [
      "\u001b[1;31mRunning cells with 'ptics' requires the ipykernel package.\n",
      "\u001b[1;31mRun the following command to install 'ipykernel' into the Python environment. \n",
      "\u001b[1;31mCommand: 'conda install -n ptics ipykernel --update-deps --force-reinstall'"
     ]
    }
   ],
   "source": [
    "true_bits_text_2 = load_text_bits('data/text2.txt')\n",
    "received_bits_text_2 = load_text_bits(bits2[1])\n",
    "bit_error_rate(true_bits_text_2,received_bits_text_2)"
   ]
  },
  {
   "cell_type": "code",
   "execution_count": null,
   "id": "044dd13c",
   "metadata": {},
   "outputs": [
    {
     "ename": "",
     "evalue": "",
     "output_type": "error",
     "traceback": [
      "\u001b[1;31mRunning cells with 'ptics' requires the ipykernel package.\n",
      "\u001b[1;31mRun the following command to install 'ipykernel' into the Python environment. \n",
      "\u001b[1;31mCommand: 'conda install -n ptics ipykernel --update-deps --force-reinstall'"
     ]
    }
   ],
   "source": [
    "true_bits_image_2 = load_image_bits('data/1_14_Imagen2.png')\n",
    "received_bits_image_2 = load_image_bits_send(bits2[0])\n",
    "bit_error_rate(true_bits_image_2,received_bits_image_2)\n"
   ]
  },
  {
   "cell_type": "code",
   "execution_count": null,
   "id": "dbb580c8",
   "metadata": {},
   "outputs": [
    {
     "ename": "",
     "evalue": "",
     "output_type": "error",
     "traceback": [
      "\u001b[1;31mRunning cells with 'ptics' requires the ipykernel package.\n",
      "\u001b[1;31mRun the following command to install 'ipykernel' into the Python environment. \n",
      "\u001b[1;31mCommand: 'conda install -n ptics ipykernel --update-deps --force-reinstall'"
     ]
    }
   ],
   "source": [
    "all_true_bits_2 = np.concatenate([true_bits_image_2,true_bits_text_2])\n",
    "all_bits_received_2 = np.concatenate([received_bits_image_2,received_bits_text_2])\n",
    "bit_error_rate(all_true_bits_2,all_bits_received_2)"
   ]
  }
 ],
 "metadata": {
  "kernelspec": {
   "display_name": "Python 3",
   "language": "python",
   "name": "python3"
  },
  "language_info": {
   "codemirror_mode": {
    "name": "ipython",
    "version": 3
   },
   "file_extension": ".py",
   "mimetype": "text/x-python",
   "name": "python",
   "nbconvert_exporter": "python",
   "pygments_lexer": "ipython3",
   "version": "3.9.18"
  }
 },
 "nbformat": 4,
 "nbformat_minor": 5
}
