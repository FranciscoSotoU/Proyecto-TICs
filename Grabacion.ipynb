{
 "cells": [
  {
   "cell_type": "code",
   "execution_count": 32,
   "id": "98b66bcf",
   "metadata": {},
   "outputs": [],
   "source": [
    "import cv2\n",
    "import numpy as np\n",
    "from src.Receiver import Receiver\n",
    "from scipy.io import wavfile\n",
    "import matplotlib.pyplot as plt\n",
    "import matplotlib.image as mpimg"
   ]
  },
  {
   "cell_type": "markdown",
   "id": "fadf2726",
   "metadata": {},
   "source": [
    "## Funciones para calculo de errores"
   ]
  },
  {
   "cell_type": "code",
   "execution_count": 2,
   "id": "0157655b",
   "metadata": {},
   "outputs": [],
   "source": [
    "def bit_error_rate(true_bits, bits):\n",
    "    error_count = 0\n",
    "    for true_bit, bit in zip(true_bits, bits):\n",
    "        if true_bit != bit:\n",
    "            error_count += 1\n",
    "    error_rate = error_count / len(true_bits)\n",
    "    correct_rate = 1 - error_rate\n",
    "    print('Porcentaje bits correctos:', round(correct_rate*100, 4), '% correctos')\n",
    "    print('Porcentaje bits incorrectos:', round(error_rate*100, 4), '% incorrectos')"
   ]
  },
  {
   "cell_type": "code",
   "execution_count": 16,
   "id": "a53369ca",
   "metadata": {},
   "outputs": [],
   "source": [
    "def load_text_bits(path):\n",
    "    try:\n",
    "        with open(path, 'r', encoding='utf-8') as f:\n",
    "            text = f.read()\n",
    "    except:\n",
    "        text = path\n",
    "    ascii_list = [ord(ch) for ch in text]\n",
    "\n",
    "    bits = np.array([format(i, '08b') for i in ascii_list])\n",
    "    bitList = [int(item) for sublist in bits for item in sublist]\n",
    "    return np.array(bitList)\n"
   ]
  },
  {
   "cell_type": "code",
   "execution_count": 4,
   "id": "b6168782",
   "metadata": {},
   "outputs": [],
   "source": [
    "def load_image_bits_send(path):\n",
    "    try:\n",
    "        img = cv2.imread(path)\n",
    "    except:\n",
    "        img = path\n",
    "    b = img[:,:,2]\n",
    "    g = img[:,:,1]\n",
    "    r = img[:,:,0]\n",
    "    r = r.flatten()\n",
    "    r_binary = np.array([format(i, '08b') for i in r])\n",
    "    g = g.flatten()\n",
    "    g_binary = np.array([format(i, '08b') for i in g])\n",
    "    b = b.flatten()\n",
    "    b_binary = np.array([format(i, '08b') for i in b])\n",
    "    bitListred = [int(item) for sublist in r_binary for item in sublist]\n",
    "    bitListgreen = [int(item) for sublist in g_binary for item in sublist]\n",
    "    bitListblue = [int(item) for sublist in b_binary for item in sublist]\n",
    "    return np.concatenate([bitListblue, bitListgreen, bitListred])"
   ]
  },
  {
   "cell_type": "code",
   "execution_count": 5,
   "id": "767147d9",
   "metadata": {},
   "outputs": [],
   "source": [
    "def load_image_bits(path):\n",
    "    try:\n",
    "        img = cv2.imread(path)\n",
    "    except:\n",
    "        img = path\n",
    "    b = img[:,:,0]\n",
    "    g = img[:,:,1]\n",
    "    r = img[:,:,2]\n",
    "    r = r.flatten()\n",
    "    r_binary = np.array([format(i, '08b') for i in r])\n",
    "    g = g.flatten()\n",
    "    g_binary = np.array([format(i, '08b') for i in g])\n",
    "    b = b.flatten()\n",
    "    b_binary = np.array([format(i, '08b') for i in b])\n",
    "    bitListred = [int(item) for sublist in r_binary for item in sublist]\n",
    "    bitListgreen = [int(item) for sublist in g_binary for item in sublist]\n",
    "    bitListblue = [int(item) for sublist in b_binary for item in sublist]\n",
    "    return np.concatenate([bitListblue, bitListgreen, bitListred])"
   ]
  },
  {
   "cell_type": "markdown",
   "id": "332ba0b3",
   "metadata": {},
   "source": [
    "## Audio Grabado"
   ]
  },
  {
   "cell_type": "code",
   "execution_count": 17,
   "id": "0ae69391",
   "metadata": {},
   "outputs": [],
   "source": [
    "true_bits_image_1 = load_image_bits('data/1_20_Imagen1.png')\n",
    "true_bits_text_1 = load_text_bits('data/text.txt')\n",
    "all_true_bits_1 = np.concatenate([true_bits_image_1,true_bits_text_1])\n",
    "\n",
    "true_bits_text_2 = load_text_bits('data/text2.txt')\n",
    "true_bits_image_2 = load_image_bits('data/1_14_Imagen2.png')\n",
    "all_true_bits_2 = np.concatenate([true_bits_image_2,true_bits_text_2])"
   ]
  },
  {
   "cell_type": "code",
   "execution_count": 7,
   "id": "bd9cfccb",
   "metadata": {},
   "outputs": [],
   "source": [
    "receiver1_g = Receiver(1000, 3000, 20)\n",
    "receiver2_g = Receiver(4000, 6000, 14)"
   ]
  },
  {
   "cell_type": "code",
   "execution_count": 8,
   "id": "33538eae",
   "metadata": {},
   "outputs": [],
   "source": [
    "audio_g = wavfile.read(\"audios/mejor_audio.wav\")[1]\n",
    "bits1_g = receiver1_g.decode_audio(audio_g)\n",
    "bits2_g = receiver2_g.decode_audio(audio_g)\n",
    "\n",
    "img1_g = bits1_g[0]\n",
    "text1_g = bits1_g[1]\n",
    "img2_g = bits2_g[0]\n",
    "text2_g = bits2_g[1]"
   ]
  },
  {
   "cell_type": "code",
   "execution_count": 9,
   "id": "0266780b",
   "metadata": {},
   "outputs": [],
   "source": [
    "received_bits_image_1_g = load_image_bits_send(bits1_g[0])\n",
    "received_bits_text_1_g = load_text_bits(bits1_g[1])\n",
    "received_bits_image_2_g = load_image_bits_send(bits2_g[0])\n",
    "received_bits_text_2_g = load_text_bits(bits2_g[1])\n",
    "all_bits_received_1_g = np.concatenate([received_bits_image_1_g,received_bits_text_1_g])\n",
    "all_bits_received_2_g = np.concatenate([received_bits_image_2_g,received_bits_text_2_g])"
   ]
  },
  {
   "cell_type": "markdown",
   "id": "531a3a23",
   "metadata": {},
   "source": [
    "### Imágenes original"
   ]
  },
  {
   "cell_type": "code",
   "execution_count": 38,
   "id": "65d79a63",
   "metadata": {},
   "outputs": [
    {
     "data": {
      "image/png": "[encoded data removed]",
      "text/plain": [
       "<Figure size 640x480 with 1 Axes>"
      ]
     },
     "metadata": {},
     "output_type": "display_data"
    }
   ],
   "source": [
    "# img = mpimg.imread('data/1_20_Imagen1.png')\n",
    "img = mpimg.imread('data/1_14_Imagen2.png')\n",
    "plt.imshow(img)\n",
    "plt.axis('off')\n",
    "plt.show()"
   ]
  },
  {
   "cell_type": "markdown",
   "id": "fc2b8c69",
   "metadata": {},
   "source": [
    "### Primera Imagen"
   ]
  },
  {
   "cell_type": "code",
   "execution_count": 39,
   "id": "e14d7ebb",
   "metadata": {},
   "outputs": [
    {
     "name": "stdout",
     "output_type": "stream",
     "text": [
      "¡Laboratorio de Tecnologías de Información y de Comunicación EL5207! Transmisor número 1, primavera 202ÒÒ\n"
     ]
    },
    {
     "data": {
      "image/png": "[encoded data removed]",
      "text/plain": [
       "<Figure size 640x480 with 1 Axes>"
      ]
     },
     "metadata": {},
     "output_type": "display_data"
    }
   ],
   "source": [
    "plt.imshow(img1_g)\n",
    "plt.axis('off')\n",
    "print(text1_g)"
   ]
  },
  {
   "cell_type": "code",
   "execution_count": 21,
   "id": "5941cf04",
   "metadata": {},
   "outputs": [
    {
     "name": "stdout",
     "output_type": "stream",
     "text": [
      "Porcentaje bits correctos: 100.0 % correctos\n",
      "Porcentaje bits incorrectos: 0.0 % incorrectos\n"
     ]
    }
   ],
   "source": [
    "bit_error_rate(received_bits_image_1_g,true_bits_image_1)"
   ]
  },
  {
   "cell_type": "code",
   "execution_count": 22,
   "id": "cd678925",
   "metadata": {},
   "outputs": [
    {
     "name": "stdout",
     "output_type": "stream",
     "text": [
      "Porcentaje bits correctos: 98.8095 % correctos\n",
      "Porcentaje bits incorrectos: 1.1905 % incorrectos\n"
     ]
    }
   ],
   "source": [
    "bit_error_rate(received_bits_text_1_g,true_bits_text_1)"
   ]
  },
  {
   "cell_type": "code",
   "execution_count": 23,
   "id": "0cb4dc1f",
   "metadata": {},
   "outputs": [
    {
     "name": "stdout",
     "output_type": "stream",
     "text": [
      "Porcentaje bits correctos: 99.9042 % correctos\n",
      "Porcentaje bits incorrectos: 0.0958 % incorrectos\n"
     ]
    }
   ],
   "source": [
    "bit_error_rate(all_bits_received_1_g,all_true_bits_1)\n"
   ]
  },
  {
   "cell_type": "markdown",
   "id": "76068c7d",
   "metadata": {},
   "source": [
    "### Segunda Imagen"
   ]
  },
  {
   "cell_type": "code",
   "execution_count": 24,
   "id": "5aa0b6ab",
   "metadata": {},
   "outputs": [
    {
     "name": "stdout",
     "output_type": "stream",
     "text": [
      "¡Laboratorio de Tecnologías de Información y de Comunicación EL5207! Transmisor número 2, primavera 20:\u0005r\n"
     ]
    },
    {
     "data": {
      "image/png": "[encoded data removed]",
      "text/plain": [
       "<Figure size 640x480 with 1 Axes>"
      ]
     },
     "metadata": {},
     "output_type": "display_data"
    }
   ],
   "source": [
    "plt.imshow(img2_g)\n",
    "plt.axis('off')\n",
    "print(text2_g)"
   ]
  },
  {
   "cell_type": "code",
   "execution_count": 25,
   "id": "b80a60f3",
   "metadata": {},
   "outputs": [
    {
     "name": "stdout",
     "output_type": "stream",
     "text": [
      "Porcentaje bits correctos: 99.9787 % correctos\n",
      "Porcentaje bits incorrectos: 0.0213 % incorrectos\n"
     ]
    }
   ],
   "source": [
    "bit_error_rate(received_bits_image_2_g,true_bits_image_2)"
   ]
  },
  {
   "cell_type": "code",
   "execution_count": 26,
   "id": "09e1fc3f",
   "metadata": {},
   "outputs": [
    {
     "name": "stdout",
     "output_type": "stream",
     "text": [
      "Porcentaje bits correctos: 98.9286 % correctos\n",
      "Porcentaje bits incorrectos: 1.0714 % incorrectos\n"
     ]
    }
   ],
   "source": [
    "bit_error_rate(received_bits_text_2_g,true_bits_text_2)"
   ]
  },
  {
   "cell_type": "code",
   "execution_count": 27,
   "id": "c3dfdbde",
   "metadata": {},
   "outputs": [
    {
     "name": "stdout",
     "output_type": "stream",
     "text": [
      "Porcentaje bits correctos: 99.8196 % correctos\n",
      "Porcentaje bits incorrectos: 0.1804 % incorrectos\n"
     ]
    }
   ],
   "source": [
    "bit_error_rate(all_bits_received_2_g,all_true_bits_2)"
   ]
  },
  {
   "cell_type": "code",
   "execution_count": null,
   "id": "466cce22",
   "metadata": {},
   "outputs": [],
   "source": []
  }
 ],
 "metadata": {
  "kernelspec": {
   "display_name": "Python 3",
   "language": "python",
   "name": "python3"
  },
  "language_info": {
   "codemirror_mode": {
    "name": "ipython",
    "version": 3
   },
   "file_extension": ".py",
   "mimetype": "text/x-python",
   "name": "python",
   "nbconvert_exporter": "python",
   "pygments_lexer": "ipython3",
   "version": "3.8.8"
  }
 },
 "nbformat": 4,
 "nbformat_minor": 5
}
